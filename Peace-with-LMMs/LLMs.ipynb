{
 "cells": [
  {
   "cell_type": "code",
   "execution_count": 1,
   "id": "2e03ea66",
   "metadata": {},
   "outputs": [],
   "source": [
    "### Data Manipulation \n",
    "import pandas as pd\n",
    "import numpy as np\n",
    "\n",
    "### Data Viz \n",
    "import matplotlib.pyplot as plt\n",
    "import seaborn as sns\n",
    "\n",
    "### NLP libraries\n",
    "import nltk\n",
    "from nltk.tokenize import word_tokenize\n",
    "from nltk.corpus import stopwords\n",
    "import spacy\n",
    "\n",
    "### transformers \n",
    "# !pip install transformers\n",
    "from transformers import pipeline\n",
    "from bertopic import BERTopic\n",
    "from sentence_transformers import SentenceTransformer\n",
    "from datasets import Dataset\n",
    "from transformers import AutoTokenizer, AutoModelForSequenceClassification\n",
    "from transformers import TrainingArguments, Trainer\n",
    "from transformers import DataCollatorWithPadding\n",
    "\n",
    "\n",
    "### modeling and metrics\n",
    "from sklearn.linear_model import LogisticRegression, LogisticRegressionCV\n",
    "from sklearn.tree import DecisionTreeClassifier\n",
    "from sklearn.neighbors import KNeighborsClassifier\n",
    "from sklearn.naive_bayes import GaussianNB\n",
    "from sklearn.model_selection import train_test_split,GridSearchCV\n",
    "from sklearn.preprocessing import StandardScaler\n",
    "from sklearn.preprocessing import label_binarize\n",
    "from sklearn.datasets import make_classification\n",
    "from sklearn.ensemble import RandomForestClassifier, GradientBoostingClassifier, AdaBoostClassifier, BaggingClassifier, HistGradientBoostingClassifier\n",
    "from sklearn.svm import SVC, LinearSVC\n",
    "from sklearn.neural_network import MLPClassifier\n",
    "from sklearn.discriminant_analysis import LinearDiscriminantAnalysis\n",
    "from xgboost import XGBClassifier\n",
    "from sklearn.metrics import confusion_matrix, roc_curve, auc, precision_recall_curve, classification_report, f1_score, precision_score, recall_score, accuracy_score,precision_recall_fscore_support\n",
    "from sklearn.decomposition import PCA\n",
    "import statsmodels.api as sm\n",
    "from statsmodels.stats.outliers_influence import variance_inflation_factor\n",
    "\n",
    "\n",
    "import warnings\n",
    "warnings.filterwarnings(\"ignore\", category=UserWarning)"
   ]
  },
  {
   "cell_type": "code",
   "execution_count": 2,
   "id": "9f54d8e7",
   "metadata": {},
   "outputs": [
    {
     "name": "stderr",
     "output_type": "stream",
     "text": [
      "/var/folders/g5/fgf96lvd7vl7r8rm0sqj1rhm0000gn/T/ipykernel_21894/2297266212.py:1: DtypeWarning: Columns (8,29,284,285,286,287,288,289,291,295,297,299,301,302,304,305,306) have mixed types. Specify dtype option on import or set low_memory=False.\n",
      "  pax = pd.read_csv(\"pax.csv\", encoding='utf-8')\n"
     ]
    }
   ],
   "source": [
    "pax = pd.read_csv(\"pax.csv\", encoding='utf-8') "
   ]
  },
  {
   "cell_type": "code",
   "execution_count": 3,
   "id": "85702033",
   "metadata": {},
   "outputs": [],
   "source": [
    "pax[\"end\"] = pax[\"ep_end\"]"
   ]
  },
  {
   "cell_type": "code",
   "execution_count": 4,
   "id": "c72b5c99",
   "metadata": {},
   "outputs": [
    {
     "name": "stdout",
     "output_type": "stream",
     "text": [
      "        Contp  ter  gov  gov_ter  inter_group  other\n",
      "0  Government    0    1        0            0      0\n",
      "1  Government    0    1        0            0      0\n",
      "2  Government    0    1        0            0      0\n",
      "3  Government    0    1        0            0      0\n",
      "4  Government    0    1        0            0      0\n",
      "Status\n",
      "Multiparty signed/agreed            1900\n",
      "Unilateral document                  135\n",
      "Status unclear                        12\n",
      "Agreement with subsequent status       8\n",
      "Name: count, dtype: int64\n",
      "                     Status  sub_status  multiparty  status_unclear  uni_doc\n",
      "0  Multiparty signed/agreed           0           1               0        0\n",
      "1  Multiparty signed/agreed           0           1               0        0\n",
      "2  Multiparty signed/agreed           0           1               0        0\n",
      "3  Multiparty signed/agreed           0           1               0        0\n",
      "4  Multiparty signed/agreed           0           1               0        0\n",
      "Agtp\n",
      "Intra         1368\n",
      "IntraLocal     349\n",
      "InterIntra     256\n",
      "Inter           82\n",
      "Name: count, dtype: int64\n",
      "    Agtp  inter  inter_intra  intra  intra_local\n",
      "0  Intra      0            0      1            0\n",
      "1  Intra      0            0      1            0\n",
      "2  Intra      0            0      1            0\n",
      "3  Intra      0            0      1            0\n",
      "4  Intra      0            0      1            0\n",
      "Stage\n",
      "Pre        537\n",
      "SubPar     533\n",
      "Cea        443\n",
      "Imp        369\n",
      "SubComp    119\n",
      "Ren         49\n",
      "Oth          5\n",
      "Name: count, dtype: int64\n",
      "    Stage  stage_cea  stage_imp  stage_oth  stage_pre  stage_ren  \\\n",
      "0     Pre          0          0          0          1          0   \n",
      "1     Pre          0          0          0          1          0   \n",
      "2     Pre          0          0          0          1          0   \n",
      "3     Pre          0          0          0          1          0   \n",
      "4  SubPar          0          0          0          0          0   \n",
      "\n",
      "   stage_subcomp  stage_subpar  \n",
      "0              0             0  \n",
      "1              0             0  \n",
      "2              0             0  \n",
      "3              0             0  \n",
      "4              0             1  \n",
      "StageSub\n",
      "MultIss     314\n",
      "Ceas        237\n",
      "ImpMod      210\n",
      "Iss         200\n",
      "Proc        176\n",
      "Rel         149\n",
      "Prin        125\n",
      "ExtSub      120\n",
      "FrAg         98\n",
      "PreMix       93\n",
      "Conf         90\n",
      "CeaMix       57\n",
      "PreOth       45\n",
      "Repre        19\n",
      "FrCons       18\n",
      "ExtPar       17\n",
      "Reimp        17\n",
      "FrparOth     13\n",
      "ImpOth       13\n",
      "Resub        11\n",
      "Reoth         1\n",
      "Name: count, dtype: int64\n",
      "  StageSub  stagesub_ceamix  stagesub_ceas  stagesub_conf  stagesub_extpar  \\\n",
      "0     Prin                0              0              0                0   \n",
      "1   PreOth                0              0              0                0   \n",
      "2   PreMix                0              0              0                0   \n",
      "3     Proc                0              0              0                0   \n",
      "4  MultIss                0              0              0                0   \n",
      "\n",
      "   stagesub_extsub  stagesub_frag  stagesub_frcons  stagesub_frparoth  \\\n",
      "0                0              0                0                  0   \n",
      "1                0              0                0                  0   \n",
      "2                0              0                0                  0   \n",
      "3                0              0                0                  0   \n",
      "4                0              0                0                  0   \n",
      "\n",
      "   stagesub_impmod  ...  stagesub_multiss  stagesub_premix  stagesub_preoth  \\\n",
      "0                0  ...                 0                0                0   \n",
      "1                0  ...                 0                0                1   \n",
      "2                0  ...                 0                1                0   \n",
      "3                0  ...                 0                0                0   \n",
      "4                0  ...                 1                0                0   \n",
      "\n",
      "   stagesub_prin  stagesub_proc  stagesub_reimp  stagesub_rel  stagesub_reoth  \\\n",
      "0              1              0               0             0               0   \n",
      "1              0              0               0             0               0   \n",
      "2              0              0               0             0               0   \n",
      "3              0              1               0             0               0   \n",
      "4              0              0               0             0               0   \n",
      "\n",
      "   stagesub_repre  stagesub_resub  \n",
      "0               0               0  \n",
      "1               0               0  \n",
      "2               0               0  \n",
      "3               0               0  \n",
      "4               0               0  \n",
      "\n",
      "[5 rows x 22 columns]\n",
      "  Interim  interim_b\n",
      "0      No          0\n",
      "1      No          0\n",
      "2      No          0\n",
      "3      No          0\n",
      "4      No          0\n",
      "Number of missing values for each column:\n",
      "ter                0\n",
      "gov                0\n",
      "inter              0\n",
      "inter_intra        0\n",
      "intra              0\n",
      "stage_cea          0\n",
      "stage_pre          0\n",
      "stage_ren          0\n",
      "stage_subcomp      0\n",
      "stage_subpar       0\n",
      "GRa                0\n",
      "GRe                0\n",
      "GRef               0\n",
      "GeWom              0\n",
      "Pol                0\n",
      "Ele                0\n",
      "ConGen             0\n",
      "ps                 0\n",
      "HrCp               0\n",
      "HrDem              0\n",
      "Prot               0\n",
      "JusCr              0\n",
      "JusJu              0\n",
      "Dev                0\n",
      "IntFu              0\n",
      "SsrGua             0\n",
      "Ce                 0\n",
      "SsrPol             0\n",
      "SsrArm             0\n",
      "SsrDdr             0\n",
      "SsrPsf             0\n",
      "SsrFf              0\n",
      "TjAm               0\n",
      "TjPrire            0\n",
      "TjRep              0\n",
      "TjNR               0\n",
      "ImUN               0\n",
      "ImPK               0\n",
      "ImE                0\n",
      "end              547\n",
      "dtype: int64\n"
     ]
    }
   ],
   "source": [
    "pax['ter'] = pax['Contp'].apply(lambda x: 1 if 'Territory' in str(x) and 'Government/territory' not in str(x) else 0)\n",
    "pax['gov'] = pax['Contp'].apply(lambda x: 1 if 'Government' in str(x) and 'Government/territory' not in str(x) else 0)\n",
    "pax['gov_ter'] = pax['Contp'].apply(lambda x: 1 if 'Government/territory' in str(x) else 0)\n",
    "pax['inter_group'] = pax['Contp'].apply(lambda x: 1 if 'Inter-group' in str(x) else 0)\n",
    "pax['other'] = pax.apply(lambda row: 1 if row[['ter', 'gov', 'gov_ter', 'inter_group']].sum() == 0 else 0, axis=1)\n",
    "print(pax[['Contp', 'ter', 'gov', 'gov_ter', 'inter_group', 'other']].head())\n",
    "\n",
    "\n",
    "\n",
    "print(pax['Status'].value_counts())\n",
    "pax['sub_status'] = pax['Status'].apply(lambda x: 1 if x == 'Agreement with subsequent status' else 0)\n",
    "pax['multiparty'] = pax['Status'].apply(lambda x: 1 if x == 'Multiparty signed/agreed' else 0)\n",
    "pax['status_unclear'] = pax['Status'].apply(lambda x: 1 if x == 'Status unclear' else 0)\n",
    "pax['uni_doc'] = pax['Status'].apply(lambda x: 1 if x == 'Unilateral document' else 0)\n",
    "print(pax[['Status', 'sub_status', 'multiparty', 'status_unclear', 'uni_doc']].head())\n",
    "\n",
    "\n",
    "\n",
    "print(pax['Agtp'].value_counts())\n",
    "pax['inter'] = pax['Agtp'].apply(lambda x: 1 if x == 'Inter' else 0)\n",
    "pax['inter_intra'] = pax['Agtp'].apply(lambda x: 1 if x == 'InterIntra' else 0)\n",
    "pax['intra'] = pax['Agtp'].apply(lambda x: 1 if x == 'Intra' else 0)\n",
    "pax['intra_local'] = pax['Agtp'].apply(lambda x: 1 if x == 'IntraLocal' else 0)\n",
    "print(pax[['Agtp', 'inter', 'inter_intra', 'intra', 'intra_local']].head())\n",
    "\n",
    "\n",
    "print(pax['Stage'].value_counts())\n",
    "pax['stage_cea'] = pax['Stage'].apply(lambda x: 1 if x == 'Cea' else 0)\n",
    "pax['stage_imp'] = pax['Stage'].apply(lambda x: 1 if x == 'Imp' else 0)\n",
    "pax['stage_oth'] = pax['Stage'].apply(lambda x: 1 if x == 'Oth' else 0)\n",
    "pax['stage_pre'] = pax['Stage'].apply(lambda x: 1 if x == 'Pre' else 0)\n",
    "pax['stage_ren'] = pax['Stage'].apply(lambda x: 1 if x == 'Ren' else 0)\n",
    "pax['stage_subcomp'] = pax['Stage'].apply(lambda x: 1 if x == 'SubComp' else 0)\n",
    "pax['stage_subpar'] = pax['Stage'].apply(lambda x: 1 if x == 'SubPar' else 0)\n",
    "print(pax[['Stage', 'stage_cea', 'stage_imp', 'stage_oth', 'stage_pre', \n",
    "           'stage_ren', 'stage_subcomp', 'stage_subpar']].head())\n",
    "\n",
    "\n",
    "\n",
    "print(pax['StageSub'].value_counts())\n",
    "pax['stagesub_ceamix'] = pax['StageSub'].apply(lambda x: 1 if x == 'CeaMix' else 0)\n",
    "pax['stagesub_ceas'] = pax['StageSub'].apply(lambda x: 1 if x == 'Ceas' else 0)\n",
    "pax['stagesub_conf'] = pax['StageSub'].apply(lambda x: 1 if x == 'Conf' else 0)\n",
    "pax['stagesub_extpar'] = pax['StageSub'].apply(lambda x: 1 if x == 'ExtPar' else 0)\n",
    "pax['stagesub_extsub'] = pax['StageSub'].apply(lambda x: 1 if x == 'ExtSub' else 0)\n",
    "pax['stagesub_frag'] = pax['StageSub'].apply(lambda x: 1 if x == 'FrAg' else 0)\n",
    "pax['stagesub_frcons'] = pax['StageSub'].apply(lambda x: 1 if x == 'FrCons' else 0)\n",
    "pax['stagesub_frparoth'] = pax['StageSub'].apply(lambda x: 1 if x == 'FrparOth' else 0)\n",
    "pax['stagesub_impmod'] = pax['StageSub'].apply(lambda x: 1 if x == 'ImpMod' else 0)\n",
    "pax['stagesub_impoth'] = pax['StageSub'].apply(lambda x: 1 if x == 'ImpOth' else 0)\n",
    "pax['stagesub_iss'] = pax['StageSub'].apply(lambda x: 1 if x == 'Iss' else 0)\n",
    "pax['stagesub_multiss'] = pax['StageSub'].apply(lambda x: 1 if x == 'MultIss' else 0)\n",
    "pax['stagesub_premix'] = pax['StageSub'].apply(lambda x: 1 if x == 'PreMix' else 0)\n",
    "pax['stagesub_preoth'] = pax['StageSub'].apply(lambda x: 1 if x == 'PreOth' else 0)\n",
    "pax['stagesub_prin'] = pax['StageSub'].apply(lambda x: 1 if x == 'Prin' else 0)\n",
    "pax['stagesub_proc'] = pax['StageSub'].apply(lambda x: 1 if x == 'Proc' else 0)\n",
    "pax['stagesub_reimp'] = pax['StageSub'].apply(lambda x: 1 if x == 'Reimp' else 0)\n",
    "pax['stagesub_rel'] = pax['StageSub'].apply(lambda x: 1 if x == 'Rel' else 0)\n",
    "pax['stagesub_reoth'] = pax['StageSub'].apply(lambda x: 1 if x == 'Reoth' else 0)\n",
    "pax['stagesub_repre'] = pax['StageSub'].apply(lambda x: 1 if x == 'Repre' else 0)\n",
    "pax['stagesub_resub'] = pax['StageSub'].apply(lambda x: 1 if x == 'Resub' else 0)\n",
    "print(pax[['StageSub', 'stagesub_ceamix', 'stagesub_ceas', 'stagesub_conf', \n",
    "           'stagesub_extpar', 'stagesub_extsub', 'stagesub_frag', \n",
    "           'stagesub_frcons', 'stagesub_frparoth', 'stagesub_impmod', \n",
    "           'stagesub_impoth', 'stagesub_iss', 'stagesub_multiss', \n",
    "           'stagesub_premix', 'stagesub_preoth', 'stagesub_prin', \n",
    "           'stagesub_proc', 'stagesub_reimp', 'stagesub_rel', \n",
    "           'stagesub_reoth', 'stagesub_repre', 'stagesub_resub']].head())\n",
    "\n",
    "\n",
    "pax.loc[(pax['Stage'].isin(['Imp'])),'end'] = 1\n",
    "\n",
    "\n",
    "pax['interim_b'] = pax['Interim'].apply(lambda x: 1 if x == 'Yes' else 0)\n",
    "print(pax[['Interim', 'interim_b']].head())\n",
    "\n",
    "\n",
    "pax[[\"Polps\", \"Terps\", \"Eps\", \"Mps\"]] = pax[[\"Polps\", \"Terps\", \"Eps\", \"Mps\"]].applymap(lambda x: 1 if x > 0 else 0)\n",
    "pax[\"ps\"] = pax[[\"Polps\", \"Terps\", \"Eps\", \"Mps\"]].max(axis=1)\n",
    "\n",
    "\n",
    "### List of columns to modify\n",
    "columns_to_modify = [\n",
    "    \"GRa\", \"GRe\", \"GRef\", \"Pol\", \"Ele\", \"HrDem\", \"Prot\", \"Dev\", \n",
    "    \"Ce\", \"SsrPol\", \"SsrArm\", \"SsrDdr\", \n",
    "    \"TjAm\", \"TjPrire\", \"TjRep\", \"TjNR\"\n",
    "]\n",
    "\n",
    "### Convert values to 0 or 1 based on the condition\n",
    "for column in columns_to_modify:\n",
    "    pax[column] = pax[column].apply(lambda x: 0 if x == 0 else 1)\n",
    "    \n",
    "    \n",
    "features = [\n",
    "    \"ter\", \"gov\", \"inter\", \"inter_intra\", \"intra\",\n",
    "    \"stage_cea\", \"stage_pre\", \"stage_ren\", \"stage_subcomp\", \"stage_subpar\",\n",
    "    \"GRa\", \"GRe\", \"GRef\", \"GeWom\", \"Pol\", \"Ele\", \"ConGen\",\"ps\",\"HrCp\", \n",
    "    \"HrDem\", \"Prot\",\"JusCr\", \"JusJu\", \"Dev\", \"IntFu\", \"SsrGua\", \"Ce\", \"SsrPol\",\n",
    "    \"SsrArm\", \"SsrDdr\", \"SsrPsf\", \"SsrFf\", \"TjAm\", \"TjPrire\", \"TjRep\",\n",
    "    \"TjNR\", \"ImUN\", \"ImPK\", \"ImE\"\n",
    "]\n",
    "\n",
    "target = pax[\"end\"]\n",
    "\n",
    "\n",
    "\n",
    "\n",
    "\n",
    "\n",
    "### Combine features and target into single list for checking missing values\n",
    "columns_to_check = features + [\"end\"]\n",
    "\n",
    "### Count number of missing values in each column\n",
    "missing_values = pax[columns_to_check].isnull().sum()\n",
    "\n",
    "### Display results\n",
    "print(\"Number of missing values for each column:\")\n",
    "print(missing_values)\n",
    "\n",
    "\n",
    "\n",
    "pax_clean= pax.dropna(subset=columns_to_check)"
   ]
  },
  {
   "cell_type": "markdown",
   "id": "8c0ce7e7",
   "metadata": {},
   "source": [
    "## BERT"
   ]
  },
  {
   "cell_type": "code",
   "execution_count": 9,
   "id": "4488fee6",
   "metadata": {},
   "outputs": [
    {
     "data": {
      "application/vnd.jupyter.widget-view+json": {
       "model_id": "",
       "version_major": 2,
       "version_minor": 0
      },
      "text/plain": [
       "Map:   0%|          | 0/1206 [00:00<?, ? examples/s]"
      ]
     },
     "metadata": {},
     "output_type": "display_data"
    },
    {
     "data": {
      "application/vnd.jupyter.widget-view+json": {
       "model_id": "",
       "version_major": 2,
       "version_minor": 0
      },
      "text/plain": [
       "Map:   0%|          | 0/302 [00:00<?, ? examples/s]"
      ]
     },
     "metadata": {},
     "output_type": "display_data"
    },
    {
     "name": "stderr",
     "output_type": "stream",
     "text": [
      "Some weights of DistilBertForSequenceClassification were not initialized from the model checkpoint at distilbert-base-uncased and are newly initialized: ['classifier.bias', 'classifier.weight', 'pre_classifier.bias', 'pre_classifier.weight']\n",
      "You should probably TRAIN this model on a down-stream task to be able to use it for predictions and inference.\n"
     ]
    },
    {
     "data": {
      "text/html": [
       "\n",
       "    <div>\n",
       "      \n",
       "      <progress value='456' max='456' style='width:300px; height:20px; vertical-align: middle;'></progress>\n",
       "      [456/456 04:48, Epoch 6/6]\n",
       "    </div>\n",
       "    <table border=\"1\" class=\"dataframe\">\n",
       "  <thead>\n",
       " <tr style=\"text-align: left;\">\n",
       "      <th>Epoch</th>\n",
       "      <th>Training Loss</th>\n",
       "      <th>Validation Loss</th>\n",
       "      <th>Accuracy</th>\n",
       "      <th>F1</th>\n",
       "      <th>Precision</th>\n",
       "      <th>Recall</th>\n",
       "    </tr>\n",
       "  </thead>\n",
       "  <tbody>\n",
       "    <tr>\n",
       "      <td>1</td>\n",
       "      <td>0.553500</td>\n",
       "      <td>0.582362</td>\n",
       "      <td>0.682119</td>\n",
       "      <td>0.478261</td>\n",
       "      <td>0.647059</td>\n",
       "      <td>0.379310</td>\n",
       "    </tr>\n",
       "    <tr>\n",
       "      <td>2</td>\n",
       "      <td>0.529800</td>\n",
       "      <td>0.558302</td>\n",
       "      <td>0.695364</td>\n",
       "      <td>0.654135</td>\n",
       "      <td>0.580000</td>\n",
       "      <td>0.750000</td>\n",
       "    </tr>\n",
       "    <tr>\n",
       "      <td>3</td>\n",
       "      <td>0.422400</td>\n",
       "      <td>0.533090</td>\n",
       "      <td>0.725166</td>\n",
       "      <td>0.669323</td>\n",
       "      <td>0.622222</td>\n",
       "      <td>0.724138</td>\n",
       "    </tr>\n",
       "    <tr>\n",
       "      <td>4</td>\n",
       "      <td>0.337100</td>\n",
       "      <td>0.539832</td>\n",
       "      <td>0.721854</td>\n",
       "      <td>0.644068</td>\n",
       "      <td>0.633333</td>\n",
       "      <td>0.655172</td>\n",
       "    </tr>\n",
       "    <tr>\n",
       "      <td>5</td>\n",
       "      <td>0.162900</td>\n",
       "      <td>0.604800</td>\n",
       "      <td>0.764901</td>\n",
       "      <td>0.672811</td>\n",
       "      <td>0.722772</td>\n",
       "      <td>0.629310</td>\n",
       "    </tr>\n",
       "    <tr>\n",
       "      <td>6</td>\n",
       "      <td>0.188300</td>\n",
       "      <td>0.609075</td>\n",
       "      <td>0.761589</td>\n",
       "      <td>0.678571</td>\n",
       "      <td>0.703704</td>\n",
       "      <td>0.655172</td>\n",
       "    </tr>\n",
       "  </tbody>\n",
       "</table><p>"
      ],
      "text/plain": [
       "<IPython.core.display.HTML object>"
      ]
     },
     "metadata": {},
     "output_type": "display_data"
    },
    {
     "data": {
      "text/html": [],
      "text/plain": [
       "<IPython.core.display.HTML object>"
      ]
     },
     "metadata": {},
     "output_type": "display_data"
    },
    {
     "name": "stdout",
     "output_type": "stream",
     "text": [
      "\n",
      "Evaluation Results:\n",
      "Accuracy: 0.7649\n",
      "Precision: 0.7228\n",
      "Recall: 0.6293\n",
      "F1 Score: 0.6728\n"
     ]
    },
    {
     "data": {
      "text/plain": [
       "('./saved_model/tokenizer_config.json',\n",
       " './saved_model/special_tokens_map.json',\n",
       " './saved_model/vocab.txt',\n",
       " './saved_model/added_tokens.json',\n",
       " './saved_model/tokenizer.json')"
      ]
     },
     "execution_count": 9,
     "metadata": {},
     "output_type": "execute_result"
    }
   ],
   "source": [
    "### preprocess dataset\n",
    "pax_clean['text'] = pax_clean['text'].fillna('')  ### Replace NaN with empty strings\n",
    "pax_clean['end'] = pax_clean['end'].map({1: 1, 0: 0})  ### Ensure binary labels\n",
    "\n",
    "### Split dataset into train and test\n",
    "train_data, test_data = train_test_split(pax_clean, test_size=0.2, random_state=42, stratify=pax_clean['end'])\n",
    "\n",
    "### Convert to Hugging Face Dataset format\n",
    "train_dataset = Dataset.from_pandas(train_data[['text', 'end']])\n",
    "test_dataset = Dataset.from_pandas(test_data[['text', 'end']])\n",
    "\n",
    "### Tokenization\n",
    "model_name = \"distilbert-base-uncased\"\n",
    "tokenizer = AutoTokenizer.from_pretrained(model_name)\n",
    "\n",
    "def tokenize_function(examples):\n",
    "    return tokenizer(examples[\"text\"], truncation=True, padding=\"max_length\", max_length=512)\n",
    "\n",
    "train_dataset = train_dataset.map(tokenize_function, batched=True)\n",
    "test_dataset = test_dataset.map(tokenize_function, batched=True)\n",
    "\n",
    "### Remove unnecessary columns\n",
    "train_dataset = train_dataset.remove_columns([\"text\"])\n",
    "test_dataset = test_dataset.remove_columns([\"text\"])\n",
    "\n",
    "### Rename label column\n",
    "train_dataset = train_dataset.rename_column(\"end\", \"labels\")\n",
    "test_dataset = test_dataset.rename_column(\"end\", \"labels\")\n",
    "\n",
    "### Set format for PyTorch\n",
    "train_dataset.set_format(\"torch\", columns=[\"input_ids\", \"attention_mask\", \"labels\"])\n",
    "test_dataset.set_format(\"torch\", columns=[\"input_ids\", \"attention_mask\", \"labels\"])\n",
    "\n",
    "### Load Pretrained Model\n",
    "model = AutoModelForSequenceClassification.from_pretrained(model_name, num_labels=2)\n",
    "\n",
    "### Define metrics\n",
    "def compute_metrics(eval_pred):\n",
    "    logits, labels = eval_pred\n",
    "    predictions = np.argmax(logits, axis=1)\n",
    "    acc = accuracy_score(labels, predictions)\n",
    "    precision, recall, f1, _ = precision_recall_fscore_support(labels, predictions, average=\"binary\")\n",
    "    return {\"accuracy\": acc, \"f1\": f1, \"precision\": precision, \"recall\": recall}\n",
    "\n",
    "### Define training arguments\n",
    "training_args = TrainingArguments(\n",
    "    output_dir=\"./results\",\n",
    "    evaluation_strategy=\"epoch\",\n",
    "    save_strategy=\"epoch\",\n",
    "    learning_rate=2e-5,\n",
    "    per_device_train_batch_size=16,\n",
    "    per_device_eval_batch_size=16,\n",
    "    num_train_epochs=6,\n",
    "    weight_decay=0.01,\n",
    "    logging_dir=\"./logs\",\n",
    "    logging_steps=10,\n",
    "    load_best_model_at_end=True,\n",
    "    metric_for_best_model=\"accuracy\"\n",
    ")\n",
    "\n",
    "### Data Collator\n",
    "data_collator = DataCollatorWithPadding(tokenizer=tokenizer)\n",
    "\n",
    "### Initialize Trainer\n",
    "trainer = Trainer(\n",
    "    model=model,\n",
    "    args=training_args,\n",
    "    train_dataset=train_dataset,\n",
    "    eval_dataset=test_dataset,\n",
    "    tokenizer=tokenizer,\n",
    "    data_collator=data_collator,\n",
    "    compute_metrics=compute_metrics\n",
    ")\n",
    "\n",
    "### Train model\n",
    "trainer.train()\n",
    "\n",
    "### Evaluate model\n",
    "results = trainer.evaluate()\n",
    "\n",
    "### Extract evaluation metrics\n",
    "accuracy = results[\"eval_accuracy\"]\n",
    "precision = results[\"eval_precision\"]\n",
    "recall = results[\"eval_recall\"]\n",
    "f1 = results[\"eval_f1\"]\n",
    "\n",
    "### Print evaluation results\n",
    "print(\"\\nEvaluation Results:\")\n",
    "print(f\"Accuracy: {accuracy:.4f}\")\n",
    "print(f\"Precision: {precision:.4f}\")\n",
    "print(f\"Recall: {recall:.4f}\")\n",
    "print(f\"F1 Score: {f1:.4f}\")\n",
    "\n",
    "### Save model\n",
    "model.save_pretrained(\"./saved_model\")\n",
    "tokenizer.save_pretrained(\"./saved_model\")"
   ]
  },
  {
   "cell_type": "code",
   "execution_count": 12,
   "id": "36dcc695",
   "metadata": {},
   "outputs": [
    {
     "name": "stdout",
     "output_type": "stream",
     "text": [
      "\n",
      "False Positives (Predicted Success but Failed):\n",
      "1: contact group statement - rome, 29 april 1998 1. the contact group met in rome on april 29 to decide on next steps regarding the increasingly dangerous situation in kosovo, taking into account the report of the osce troika on developments since the bonn contact group ministerial. they considered the report an important and balanced contribution to the assessment of the situation. the contact group believes that the current situation is untenable. the risk of an escalating conflict requires immediate action. 2. all members of the contact group are firmly opposed to independence for kosovo and to a continuation of the unacceptable status quo. immediate steps by the parties to reduce tension and to begin an unconditional dialogue are indispensable, and the only way to reverse the deterioration in the situation and bring about a political solution. 3. the contact group condemns the increase in violence in recent days in kosovo, in particular the excessive use of force by the yugoslav army, and the proliferation of arms in the territory. the contact group rejects absolutely terrorism as a means of bringing about political change as well as all other violence to suppress political dissent. the contact group calls on political leaders in the fry and in the countries of the region to exercise maximum restraint, full respect for human rights, to prevent the introduction of arms and of armed groups from outside, and to condemn terrorism. it also calls on the countries of the region to confirm the respect for territorial integrity and for the inviolability of internationally recognised borders. 4. the contact group is not seeking to impose any particular outcome for the resolution of the differences between belgrade and kosovo albanian leadership. it is for the parties themselves to determine a solution to the political status of kosovo through negotiations. the contact group notes that representatives of belgrade and pristina have recently stated their general willingness to open unconditional dialogue. but the two sides have yet to agree with full authority on modalities for talks, particularly on the issue of international participation. 5. the contact group regards an appropriate international involvement as an essential factor to establish confidence between the parties and to facilitate talks. 6. to begin the urgent process of dialogue, the contact group recommends, and urges both belgrade and kosovo albanian leadership to adopt, a framework for dialogue and a stabilisation package : 1. the framework should be based on fundamental principles that the parties must accept, such as rejection of violence for achieving political goals, no preconditions, mutual respect, accordance with standards and principles of the osce and of the un charter, mutually agreed modalities\n",
      "2: attachment lv protocol of estoril the government of the people ' s republic of angola and unita, meeting at estoril, portugal, with the portuguese government as mediator and in the presence of observers from the united states of america and the union of soviet socialist republics, have reached the following agreements and understandings regarding political and military matters : elections the joint political - military commission ( ccpm ) principles relating to the issue of internal security during the period between the entry into force of the cease - fire and the holding of elections political rights to be exercised by unita following the cease - fire v. administrative structures formation of the angolan armed forces elections 1. elections will take place in angola to choose the president of the republic and the national assembly. the question of whether or not these elections will be held simultaneously will be decided through consultations among all angolan political forces. the president will be elected by direct and secret suffrage, through a majority system, with recourse to a second round, if necessary. the national assembly will be elected by direct and secret suffrage, through a system of proportional representation at the national level. the elections will be preceded by an official election campaign period, the duration of which will be determined following a process of consultations involving all angolan political forces. a technical opinion from a specialized international body such as the united nations, for example, will be obtained on the question of the desirable duration of the election campaign in angola. that opinion, however, will not be considered bind i nq by any of the parties. all angolan citizen of adult age may vote, participate in the election campaign, and stand for election without any discrimination or intimidation. the definition of what is to be understood as \" adult age \" will be dealt with in the election law, to be drafted following the cease - fire, after a process of consultations between the government of the people ' s republic of angola and all angolan political forces. 6, the voting will be secret, and special provisions will be made for those who cannot read or write. these provisions will be included in the election law, to be drafted following the cease - fire, after a process of consultations between the government of the people ' s republic of angola and all angolan political forces, 7, all political parties and interested persons will have the opportunity to organize and to participate in the elections process on an equal tooting, regardless of their political positions. total freedom of expression, association, and access to the media will be guaranteed. the\n",
      "3: tambea accord tambea, 27 august 1994 record of the talks between officials of the national government of papua new guinea and the bougainville revolutionary army and the organization known as the bougainville interim government, 26 - 27 august 1994, tambea, solomon islands. introduction 1. further to the agreed record signed between representatives of the organization called the ' bougainville interim government ' ( ' big ' ) and representatives of other bougainville peace groups and senior officials of the national government of papua new guinea on 11 june 1994 in honiara in pursuit of a negotiated peace / settlement to the bougainville crisis, a delegation of the national government led by mr. brown bai, cbe, held broad ranging talks with a delegation from the organization known as the bougainville interim government and the bra led by mr. sam kauona from 26 - 27 august 1994 at tambea, outside honiara, solomon islands. list of participants 2. this is appended as attachment 1. chairman / convenor 3. the honourable francis saemala, deputy prime minister and minister for foreign affairs of solomon islands, as the convenor, chaired the meeting. opening of the meeting 4. the chairman opened the meeting with a prayer. in his opening remarks the chairman welcomed the two delegations to honiara. he especially thanked mr. sam kauona for making himself available to attend the meeting and hoped that the arrangements made for his delegation were sufficient. the chairman also thanked the png delegation for responding quickly to the call to attend the meeting, especially the png high commissioner mr. joseph assaigo, who had been active in coordinating the attendance of the png delegation. the chairman went on to emphasize the importance of the meeting as a constructive move towards paving the way for peace on bougainville. 5. the chairman proposed to the delegations that the main objectives of the meeting should be to a ) resume the dialogue that was suspended on 19th june and b ) agree on the stages that would constitute this dialogue for the road to peace in bougainville. this proposal was adopted. 6. the following stages were agreed for the continuing consultative process : stage i the consultative meeting between the deputy prime minister and kauona on 23rd august. stage iithe high level consultative meeting between png senior officials and the commander of the bra and the representatives of the organization known as the bougainville interim government. stage iii ministerial meeting to be held on 2nd september\n",
      "4: framework agreement on democratization in the search for peace by political means \" queretaro agreement \" with the aim of achieving the objectives set forth in the esquipulas ii agreement of 7 august 1987 and in accordance with the oslo agreement of 30 march 1990, the delegations of the government of the republic of guatemala and the unidad revolucionaria nacional guatemalteca ( urng ), having pursued negotiations under the oslo agreement with the chairman of the national reconciliation commission, mr. rodolfo quezada tomas : ), acting as conciliator, with the participation of the national reconciliation commission ( cnr ) and with the representative of the secretary - general of the united nations mr. francesc vendrell, acting as observer, and hereby placing on record the agreements which they have reached on the item \" democratization \" of the general agenda adopted at mexico city on 26 april 1991, consider that : the political forces and the various sectors which make up guatemalan society have expressed their desire for the achievement of peace, democracy and social justice. the government of the republic of guatemala and the unidad revolucionaria nacional guatemalteca ( urng ) have agreed to pursue a process of negotiations whose final objective is the search for peace by political means, the enhancement of functional and participatory democracy and the laying of foundations on which to build national development and progress, thereby ensuring democratic coexistence and the attainment of the common good. considering the issue of democratization makes it possible to establish a general framework within which to approach coherently the other items to be discussed in the negotiating process. guatemala requires measures which ensure the development of political, economic, social and cultural democratization. the government of the republic of guatemala recognizes its responsibility to implement measures which are in the population ' s interest and guarantee the country ' s democratization. the procedures and agreements resulting from the discussion of the general agenda adopted in mexico are fundamental to the process of enhancing functional and participatory democracy, and the conciliator should therefore inform the guatemalan people objectively and fairly about their content. any political agreements reached by the government of the republic of guatemala an the unidad revolucionaria nacional guatemalteca ( urng ) must reflect the legitimate aspirations of all guatemalans and lead to institutional measures and the proposal of constitutional reforms to the congress of the republic, within the framework and in the spirit of the political constitution of the republic of guatemala and the\n",
      "5: in the name of god the beneficent, the merciful manual of instructions for ccch and lmts this manual of instructions is hereby adopted by the orp and milf peace panels for the coordinating committees on the cessation of hostilities ( ccch ) and the local monitoring teams ( lmts ), it prescribes the instructions to the ccch and lmts in implementing the guidelines on the security aspect of the tripoli agreement on peace of 200. mandate 1. ccch a ) the ccch of both parties shall person their powers and functions in accordance with rule iii, section 4, of the implementing administrative guidelines of the grp - milf general cessation of hostilities dated september 2, 1997. b. ) the ccch shall be composed of six ( 6 ) members each fiurg the grp and mllf. the lists of the present members of the ccch of the grp and the milf are attached as annexes a & b. ; c ) the grp and the milf may change their respective membership in the ccch upon die recommendation of the respective chairman and endorsed by the ccch to the grp - melf peace panels for approval and issuance of appropriate designation by their respective panel chairman. d ) the grp and the milf coordinating committees shall hold a regular coordinating meeting once a month to discuss matters relative to the implementation - of the implementing guidelines on the security aspect of the tripoli agreement on peace of 2001. a special coordinating meeting may be called as the need arises. e. ) the grp - milf ccch is hereby authorized, as an extension of the authority of the grp - milf peace panels, to relay orders to military field commanders of both parties once they have agreed to a cessation of hostilities. 2. lmts a ) local monitoring teams ( lmts ) are established in all conflict - affected areas as provided for under article of the implementing guidelines on the security aspect of the agreement on peace of 2001. b ) the lmts shall prevent the escalation of conflict and address reported violations in their areas of responsibility. c ) the lmts shall be composed of five members, one each from the following : • representative from the local government units designated by the grp ; - representative from the milf local political committee ; - representative from ngos nominated by the grp ; representative from ngos nominated by the milf ; nid - representative from the religious sector, closer under mutual agreement\n",
      "\n",
      "False Negatives (Predicted Failure but Successful):\n",
      "1: in the name of allah, most gracious, most merciful agreement to stop the bloodshed and open the door to dialogue in the western region to our great nation, in adherence to the rulings of allah when he said : “ let there be a group among you who call others to goodness, encourage what is good, and forbid what is evil. ” ( quran, 3 : 104 ) through the direct and indirect communication between the parties to the conflict and between the commanders of the regions and the frontlines of the clashes in the western region, a truce was put in place for 10 days. therefore, the elders, shura, municipal, and local councils and prominent social figures in a number of cities in the western region, saw that it was their responsibility to reach a truce between the parties and stop the bloodshed. these councils call upon all of the parties to the conflict to answer the call of allah when he said, “ and settle your affairs ” and when he said “ that a settlement is best. ” on tuesday, 16 / 6 / 2015, in the headquarters of the taleel house in the city of sibratah, the parties agreed to the following points : to stop the fighting and for each party to return to the confines of their areas as soon as this agreement is signed between the two parties and approved by the official authorities, and to open safe passages for humanitarian aid to be delivered to stop all media campaigns opposed to the other side that incite hatred, violence, and fighting between all of the parties both of the parties to the conflict, and they are the first party, which is made up of the municipalities of the western mountain, al zintan and al rajban, and the second party, which is made up of the municipalities of the western coast, al ajilat, sibratah, and sarman, pledge to not go in to, take positions, harass, or kill anyone from the other side within the confines of their cities in any case, no matter the reason. they also pledge to not allow any party to use their lands to conduct attacks on the other side, including attacks by any other forces under any name at all. to release all of the detainees that all of the parties are holding as soon as the third point in this agreement is implemented both of the parties to the conflict pledge to activate the army and the security agencies, each within the confines of their areas, to secure the public roads and determine the entrances to these areas and approve them. the parties are\n",
      "2: preamble we, heads of state and government of the member states of the international conference on the great lakes region ; mindful of the need to respect democracy and good governance, the fundamental principles enshrined in the un charter and the african union constitutive act, notably territorial integrity, national sovereignty, non - interference and non - aggression, prohibition of any member state from allowing the use of its territory as a base for aggression or subversion against another member state ; mindful of the need for an effective and sustained political will to jointly seek peaceful solutions to disputes and more especially to honor our commitments in a spirit of mutual trust ; reaf rming our individual and collective determination to base the relations between our states on international legal instruments and universal fundamental principles, the priority political options and the guiding principles referred to in the dar - es - salaam declaration, as well as to transform the great lakes region, in the framework of our common destiny, into a space of durable peace and security, of political and social stability, and of economic growth and shared development by multi - sector cooperation and integration for the sole bene t of our peoples ; determined to ensure the strict observance of the standards and principles of international humanitarian law, notably those relating to the protection and assistance of women, children, refugees and displaced persons, the violations of which have seriously affected the populations concerned ; reaf rming our decision taken at dar - es - salaam to declare the great lakes region a speci c zone of reconstruction and development and jointly determined to meet the challenge of reconstruction and development with the full participation of all our peoples, particularly in partnership with the civil society organizations, young people, women, the private sector and religious organizations, as well as in close cooperation with the relevant regional organizations, the african union, the united nations, and the international community in general ; determined to adopt and implement collectively the appropriate programmes of action, the protocols and mechanisms to translate into reality the priority political options and the guiding principles of the dar - es - salaam declaration ; hereby solemnly agree : chapter i. general provisions article 1 de nitions 1. for the purpose of this pact, unless the context otherwise requires, the following mean : a ) conference : the international conference on the great lakes region ; b ) great lakes region : the region composed of the whole of the territories of the eleven core member states of the conference ; c ) dar - es - salaamdeclaration : thedeclarationonpeace\n",
      "3: press release - royal norwegian embassy, berlin 07 february 2003 on 7 february an incident on a sea tiger vessel near the delft islands resulted in the tragic loss of three lives. the situation leading up to the incident had been discussed between the government of sri lanka ( gosl ) and the liberation tigers of tamil eelam ( ltte ) on 6 february. on the evening of the same day, the parties agreed on a procedure to resolve the matter by asking the sri lanka monitoring mission ( slmm ) to conduct an inspection of the vessels involved to clarify the situation. due to an apparent communication failure between the ltte naval commander and the cadres on board one vessel, the crew members were not informed of the agreed procedure, and the cadres setfire to the vessel and took their own lives. in cooperation with the slmm, the parties will review existing procedures in order ta avoid similar incidents in the future. the ongoing session of peace talks will continue as scheduled\n",
      "4: conference of the national consultation council on somali affairs ’ s 27 may 2021 press release the conference of the heads of the national consultation council was chaired by the prime minister of the federal government of somalia, mr. mohamed hussein roble, and it was attended by president of puntland, said abdullahi deni ; the president of jubaland, ahmed mohamed islam ; the president of the south west, abdicasis hassan mohamed ( laftagaren ) ; the president of galmudug, ahmed abdi kariye ( qoorqoor ) ; the president of hirshabelle, ali abdullahi hussein ( ali guudlaawe ) ; and the governor of banaadir, cumar maxuud maxed filish. the conference took place in mogadishu from may 22 to may 26, 2021. during this period, the national consultation council thoroughly examined the progress and challenges in implementing the agreement of september 17, 2020 regarding the electoral procedures of the constitutional institutions within the federal republic of somalia. the council also scrutinized the progress made in the recommendations put forth by the baydhabo technical committee on february 16, 2021, to streamline the key points of the committee ' s proposals which included : 1. a roadmap for resolving complaints related to the election management bodies of the two levels. 2. finding a solution for the somaliland election management committee 3. the process of resolving conflicts in the gedo region 4. implementing quotas for women 5. the election schedules the council also discussed issues they considered crucial for the success of the election process, including the overall security of the country, the electoral framework, and the completion of the roadmap for the state - building of somalia. now, the national consultation council, recognizing the imperative need for the elections of the federal institutions of somalia to occur within a specific timeframe, and to take place peacefully, inclusively, and contribute to political stability, has extensively deliberated and approved the following provisions : 1. the roadmap to resolve the differences in the electoral management bodies ( a ) the council decided, in reference to the proposal of the baydhabo technical committee, to submit a list of members of the electoral management bodies at both federal and regional levels that have disagreements within a period of 3 days to the office of the prime minister of the federal government for replacement. the process should start immediately upon the signing of the agreement by the leaders of the national consultation council. ( b ) when the prime minister of the federal government\n",
      "5: statement of participants from nyal meeting on wunlit 1999 peace conference after 22 years nyal, 13 - 14 may 2021 on 13 — 14 may, we the twenty - nine the representative chiefs and women from unity state, lakes state and warrap state, members of the original wunlit peace conference of 1999, brought together by the rift valley institute and assistance mission for africa, with support from the swiss government, met in nyal, payinjiar county, unity state. the objectives of the meeting were to : • receive the research findings from the rift valley institute and catholic university of south sudan oral history memory project on the 1999 wunlit peace conference ; • celebrate the achievements of wunlit ; • document proposed ways forward for south sudan considering the lessons learnt from wunlit. in recent south sudanese history one of the most significant peace - building events was the wunlit peace conference of 1999. wunlit was a meeting of chiefs, organised by churches, that began the process of reunification of the two factions of the spla / m. the wunlit meeting paved the way for the comprehensive peace agreement of 2005, which brought south sudan into being as a nation. this meeting in nyal gave us the opportunity to reignite our memories of the wunlit peace conference, which has inspired and encouraged us. therefore : we acknowledge : • the great successes of wunlit that include — the reunification of the two factions of the spla / m, that subsequently led to the signing of the comprehensive peace agreement in 2005 and the independence of south sudan ; and the peaceful coexistence of communities in the western nile and the networking, collaboration and friendship that it brought between the traditional leaders who attended, which still stand today ; • our commitment to the spirit and implementation of the r - arciss. we recognise with concern : • the absence of key chiefs missing from our meeting including those from mayom and gogrial due to the focus of the meeting on bringing together participants from the original wunlit meeting ; • the recent killings in cattle camps and at the border areas between our communities ; • the prevalence of guns in the hands of our young people ; • the high rates of illiteracy, disease and hunger in our communities ; • the lack of road infrastructure and telecommunications network in the wunlit triangle, particularly in payinjiar. we appeal : • to youth in the cattle camps to maintain peace as we continue to work to rekindle the spirit of wunlit ;\n"
     ]
    }
   ],
   "source": [
    "### Get predictions on the test set\n",
    "logits = trainer.predict(test_dataset).predictions\n",
    "predictions = np.argmax(logits, axis=1)\n",
    "true_labels = np.array(test_dataset[\"labels\"])\n",
    "\n",
    "### Calculate confusion matrix\n",
    "conf_matrix = confusion_matrix(true_labels, predictions)\n",
    "\n",
    "### Analyze false positives and false negatives\n",
    "false_positives = test_dataset.select([i for i, (p, t) in enumerate(zip(predictions, true_labels)) if p == 1 and t == 0])\n",
    "false_negatives = test_dataset.select([i for i, (p, t) in enumerate(zip(predictions, true_labels)) if p == 0 and t == 1])\n",
    "\n",
    "### Print few examples of misclassified agreements\n",
    "print(\"\\nFalse Positives (Predicted Success but Failed):\")\n",
    "for i, example in enumerate(false_positives[\"input_ids\"][:5]):\n",
    "    print(f\"{i + 1}: {tokenizer.decode(example, skip_special_tokens=True)}\")\n",
    "\n",
    "print(\"\\nFalse Negatives (Predicted Failure but Successful):\")\n",
    "for i, example in enumerate(false_negatives[\"input_ids\"][:5]):\n",
    "    print(f\"{i + 1}: {tokenizer.decode(example, skip_special_tokens=True)}\")"
   ]
  },
  {
   "cell_type": "code",
   "execution_count": 13,
   "id": "93894f8c",
   "metadata": {},
   "outputs": [
    {
     "data": {
      "image/png": "[encoded data removed]",
      "text/plain": [
       "<Figure size 800x500 with 1 Axes>"
      ]
     },
     "metadata": {},
     "output_type": "display_data"
    }
   ],
   "source": [
    "\n",
    "metrics = {\n",
    "    \"Accuracy\": accuracy,\n",
    "    \"Precision\": precision,\n",
    "    \"Recall\": recall,\n",
    "    \"F1 Score\": f1\n",
    "}\n",
    "\n",
    "plt.figure(figsize=(8, 5))\n",
    "sns.barplot(x=list(metrics.keys()), y=list(metrics.values()), palette=\"Blues_d\")\n",
    "plt.title(\"Evaluation Metrics\", fontsize=14)\n",
    "plt.ylabel(\"Score\", fontsize=12)\n",
    "plt.xlabel(\"Metric\", fontsize=12)\n",
    "plt.ylim(0, 1)\n",
    "plt.show()"
   ]
  },
  {
   "cell_type": "code",
   "execution_count": 17,
   "id": "66aeea31",
   "metadata": {},
   "outputs": [
    {
     "data": {
      "image/png": "[encoded data removed]",
      "text/plain": [
       "<Figure size 1000x600 with 1 Axes>"
      ]
     },
     "metadata": {},
     "output_type": "display_data"
    }
   ],
   "source": [
    "metrics = {\n",
    "    \"Accuracy\": accuracy,\n",
    "    \"Precision\": precision,\n",
    "    \"Recall\": recall,\n",
    "    \"F1 Score\": f1\n",
    "}\n",
    "\n",
    "plt.figure(figsize=(10, 6))\n",
    "sns.barplot(x=list(metrics.keys()), y=list(metrics.values()), palette=\"coolwarm\")\n",
    "\n",
    "for i, value in enumerate(metrics.values()):\n",
    "    plt.text(i, value + 0.02, f\"{value:.2f}\", ha='center', fontsize=12, fontweight='bold')\n",
    "\n",
    "plt.title(\"Evaluation Metrics for BERT Model\", fontsize=16, fontweight='bold')\n",
    "plt.ylabel(\"Score\", fontsize=14)\n",
    "plt.xlabel(\"Metric\", fontsize=14)\n",
    "plt.ylim(0, 1.1)  \n",
    "plt.xticks(fontsize=12)\n",
    "plt.yticks(fontsize=12)\n",
    "plt.grid(axis='y', linestyle='--', alpha=0.7)\n",
    "\n",
    "plt.tight_layout()\n",
    "plt.show()\n"
   ]
  },
  {
   "cell_type": "code",
   "execution_count": 19,
   "id": "d49926d5",
   "metadata": {},
   "outputs": [
    {
     "name": "stdout",
     "output_type": "stream",
     "text": [
      "Error initializing tokenizer: Converting from Tiktoken failed, if a converter for SentencePiece is available, provide a model path with a SentencePiece tokenizer.model file.Currently available slow->fast convertors: ['AlbertTokenizer', 'BartTokenizer', 'BarthezTokenizer', 'BertTokenizer', 'BigBirdTokenizer', 'BlenderbotTokenizer', 'CamembertTokenizer', 'CLIPTokenizer', 'CodeGenTokenizer', 'ConvBertTokenizer', 'DebertaTokenizer', 'DebertaV2Tokenizer', 'DistilBertTokenizer', 'DPRReaderTokenizer', 'DPRQuestionEncoderTokenizer', 'DPRContextEncoderTokenizer', 'ElectraTokenizer', 'FNetTokenizer', 'FunnelTokenizer', 'GPT2Tokenizer', 'HerbertTokenizer', 'LayoutLMTokenizer', 'LayoutLMv2Tokenizer', 'LayoutLMv3Tokenizer', 'LayoutXLMTokenizer', 'LongformerTokenizer', 'LEDTokenizer', 'LxmertTokenizer', 'MarkupLMTokenizer', 'MBartTokenizer', 'MBart50Tokenizer', 'MPNetTokenizer', 'MobileBertTokenizer', 'MvpTokenizer', 'NllbTokenizer', 'OpenAIGPTTokenizer', 'PegasusTokenizer', 'Qwen2Tokenizer', 'RealmTokenizer', 'ReformerTokenizer', 'RemBertTokenizer', 'RetriBertTokenizer', 'RobertaTokenizer', 'RoFormerTokenizer', 'SeamlessM4TTokenizer', 'SqueezeBertTokenizer', 'T5Tokenizer', 'UdopTokenizer', 'WhisperTokenizer', 'XLMRobertaTokenizer', 'XLNetTokenizer', 'SplinterTokenizer', 'XGLMTokenizer', 'LlamaTokenizer', 'CodeLlamaTokenizer', 'GemmaTokenizer', 'Phi3Tokenizer']\n",
      "Switching to fallback model: roberta-large\n"
     ]
    },
    {
     "data": {
      "application/vnd.jupyter.widget-view+json": {
       "model_id": "37a5f0ccf45f4858b5998d8225ef9ae6",
       "version_major": 2,
       "version_minor": 0
      },
      "text/plain": [
       "tokenizer_config.json:   0%|          | 0.00/25.0 [00:00<?, ?B/s]"
      ]
     },
     "metadata": {},
     "output_type": "display_data"
    },
    {
     "data": {
      "application/vnd.jupyter.widget-view+json": {
       "model_id": "4f1225aebd0748b4af574c4af3dcada2",
       "version_major": 2,
       "version_minor": 0
      },
      "text/plain": [
       "config.json:   0%|          | 0.00/482 [00:00<?, ?B/s]"
      ]
     },
     "metadata": {},
     "output_type": "display_data"
    },
    {
     "data": {
      "application/vnd.jupyter.widget-view+json": {
       "model_id": "80e4c0a65cb145d990b241fee170e400",
       "version_major": 2,
       "version_minor": 0
      },
      "text/plain": [
       "vocab.json:   0%|          | 0.00/899k [00:00<?, ?B/s]"
      ]
     },
     "metadata": {},
     "output_type": "display_data"
    },
    {
     "data": {
      "application/vnd.jupyter.widget-view+json": {
       "model_id": "3d47118fa4d147c98a651668990b7d97",
       "version_major": 2,
       "version_minor": 0
      },
      "text/plain": [
       "merges.txt:   0%|          | 0.00/456k [00:00<?, ?B/s]"
      ]
     },
     "metadata": {},
     "output_type": "display_data"
    },
    {
     "data": {
      "application/vnd.jupyter.widget-view+json": {
       "model_id": "76ff260c9f9e4f26920704ae2d13adc5",
       "version_major": 2,
       "version_minor": 0
      },
      "text/plain": [
       "tokenizer.json:   0%|          | 0.00/1.36M [00:00<?, ?B/s]"
      ]
     },
     "metadata": {},
     "output_type": "display_data"
    },
    {
     "data": {
      "application/vnd.jupyter.widget-view+json": {
       "model_id": "",
       "version_major": 2,
       "version_minor": 0
      },
      "text/plain": [
       "Map:   0%|          | 0/1206 [00:00<?, ? examples/s]"
      ]
     },
     "metadata": {},
     "output_type": "display_data"
    },
    {
     "data": {
      "application/vnd.jupyter.widget-view+json": {
       "model_id": "",
       "version_major": 2,
       "version_minor": 0
      },
      "text/plain": [
       "Map:   0%|          | 0/302 [00:00<?, ? examples/s]"
      ]
     },
     "metadata": {},
     "output_type": "display_data"
    },
    {
     "data": {
      "application/vnd.jupyter.widget-view+json": {
       "model_id": "f0e635acf89c4854b35458f51f85ea4d",
       "version_major": 2,
       "version_minor": 0
      },
      "text/plain": [
       "model.safetensors:   0%|          | 0.00/1.42G [00:00<?, ?B/s]"
      ]
     },
     "metadata": {},
     "output_type": "display_data"
    },
    {
     "name": "stderr",
     "output_type": "stream",
     "text": [
      "Some weights of RobertaForSequenceClassification were not initialized from the model checkpoint at roberta-large and are newly initialized: ['classifier.dense.bias', 'classifier.dense.weight', 'classifier.out_proj.bias', 'classifier.out_proj.weight']\n",
      "You should probably TRAIN this model on a down-stream task to be able to use it for predictions and inference.\n"
     ]
    },
    {
     "data": {
      "text/html": [
       "\n",
       "    <div>\n",
       "      \n",
       "      <progress value='604' max='604' style='width:300px; height:20px; vertical-align: middle;'></progress>\n",
       "      [604/604 24:03, Epoch 4/4]\n",
       "    </div>\n",
       "    <table border=\"1\" class=\"dataframe\">\n",
       "  <thead>\n",
       " <tr style=\"text-align: left;\">\n",
       "      <th>Epoch</th>\n",
       "      <th>Training Loss</th>\n",
       "      <th>Validation Loss</th>\n",
       "      <th>Accuracy</th>\n",
       "      <th>Precision</th>\n",
       "      <th>Recall</th>\n",
       "      <th>F1</th>\n",
       "    </tr>\n",
       "  </thead>\n",
       "  <tbody>\n",
       "    <tr>\n",
       "      <td>1</td>\n",
       "      <td>0.544800</td>\n",
       "      <td>0.696663</td>\n",
       "      <td>0.662252</td>\n",
       "      <td>0.888889</td>\n",
       "      <td>0.137931</td>\n",
       "      <td>0.238806</td>\n",
       "    </tr>\n",
       "    <tr>\n",
       "      <td>2</td>\n",
       "      <td>0.455000</td>\n",
       "      <td>0.563769</td>\n",
       "      <td>0.692053</td>\n",
       "      <td>0.566474</td>\n",
       "      <td>0.844828</td>\n",
       "      <td>0.678201</td>\n",
       "    </tr>\n",
       "    <tr>\n",
       "      <td>3</td>\n",
       "      <td>0.371300</td>\n",
       "      <td>0.593803</td>\n",
       "      <td>0.778146</td>\n",
       "      <td>0.696000</td>\n",
       "      <td>0.750000</td>\n",
       "      <td>0.721992</td>\n",
       "    </tr>\n",
       "    <tr>\n",
       "      <td>4</td>\n",
       "      <td>0.136400</td>\n",
       "      <td>0.789858</td>\n",
       "      <td>0.788079</td>\n",
       "      <td>0.724138</td>\n",
       "      <td>0.724138</td>\n",
       "      <td>0.724138</td>\n",
       "    </tr>\n",
       "  </tbody>\n",
       "</table><p>"
      ],
      "text/plain": [
       "<IPython.core.display.HTML object>"
      ]
     },
     "metadata": {},
     "output_type": "display_data"
    },
    {
     "data": {
      "text/html": [
       "\n",
       "    <div>\n",
       "      \n",
       "      <progress value='38' max='38' style='width:300px; height:20px; vertical-align: middle;'></progress>\n",
       "      [38/38 00:24]\n",
       "    </div>\n",
       "    "
      ],
      "text/plain": [
       "<IPython.core.display.HTML object>"
      ]
     },
     "metadata": {},
     "output_type": "display_data"
    },
    {
     "name": "stdout",
     "output_type": "stream",
     "text": [
      "\n",
      "Evaluation Results:\n",
      "Accuracy: 0.7881\n",
      "Precision: 0.7241\n",
      "Recall: 0.7241\n",
      "F1 Score: 0.7241\n"
     ]
    },
    {
     "data": {
      "image/png": "[encoded data removed]",
      "text/plain": [
       "<Figure size 800x500 with 1 Axes>"
      ]
     },
     "metadata": {},
     "output_type": "display_data"
    }
   ],
   "source": [
    "pax_clean['text'] = pax_clean['text'].fillna('')  ### Replace NaN with empty strings\n",
    "pax_clean['end'] = pax_clean['end'].map({1: 1, 0: 0})  ### Ensure binary labels\n",
    "train_data, test_data = train_test_split(pax_clean, test_size=0.2, random_state=42, stratify=pax_clean['end'])\n",
    "\n",
    "train_dataset = Dataset.from_pandas(train_data[['text', 'end']])\n",
    "test_dataset = Dataset.from_pandas(test_data[['text', 'end']])\n",
    "\n",
    "model_name = \"microsoft/deberta-v3-large\"\n",
    "\n",
    "try:\n",
    "    tokenizer = AutoTokenizer.from_pretrained(model_name)\n",
    "except ValueError as e:\n",
    "    print(f\"Error initializing tokenizer: {e}\")\n",
    "    print(\"Switching to fallback model: roberta-large\")\n",
    "    model_name = \"roberta-large\"\n",
    "    tokenizer = AutoTokenizer.from_pretrained(model_name)\n",
    "\n",
    "def tokenize_function(examples):\n",
    "    return tokenizer(examples[\"text\"], truncation=True, padding=\"max_length\", max_length=512)\n",
    "\n",
    "train_dataset = train_dataset.map(tokenize_function, batched=True)\n",
    "test_dataset = test_dataset.map(tokenize_function, batched=True)\n",
    "\n",
    "### Remove unnecessary columns\n",
    "train_dataset = train_dataset.remove_columns([\"text\"])\n",
    "test_dataset = test_dataset.remove_columns([\"text\"])\n",
    "\n",
    "### Rename label column\n",
    "train_dataset = train_dataset.rename_column(\"end\", \"labels\")\n",
    "test_dataset = test_dataset.rename_column(\"end\", \"labels\")\n",
    "\n",
    "### Set format for PyTorch\n",
    "train_dataset.set_format(\"torch\", columns=[\"input_ids\", \"attention_mask\", \"labels\"])\n",
    "test_dataset.set_format(\"torch\", columns=[\"input_ids\", \"attention_mask\", \"labels\"])\n",
    "\n",
    "### Load Pretrained Model\n",
    "model = AutoModelForSequenceClassification.from_pretrained(model_name, num_labels=2)\n",
    "\n",
    "### Define metrics\n",
    "def compute_metrics(eval_pred):\n",
    "    logits, labels = eval_pred\n",
    "    predictions = np.argmax(logits, axis=1)\n",
    "    acc = accuracy_score(labels, predictions)\n",
    "    precision, recall, f1, _ = precision_recall_fscore_support(labels, predictions, average=\"binary\")\n",
    "    return {\"accuracy\": acc, \"precision\": precision, \"recall\": recall, \"f1\": f1}\n",
    "\n",
    "### Define training arguments\n",
    "training_args = TrainingArguments(\n",
    "    output_dir=\"./results\",\n",
    "    evaluation_strategy=\"epoch\",\n",
    "    save_strategy=\"epoch\",\n",
    "    learning_rate=2e-5,\n",
    "    per_device_train_batch_size=8,\n",
    "    per_device_eval_batch_size=8,\n",
    "    num_train_epochs=4,\n",
    "    weight_decay=0.01,\n",
    "    logging_dir=\"./logs\",\n",
    "    logging_steps=10,\n",
    "    load_best_model_at_end=True,\n",
    "    metric_for_best_model=\"accuracy\"\n",
    ")\n",
    "\n",
    "### Data Collator\n",
    "data_collator = DataCollatorWithPadding(tokenizer=tokenizer)\n",
    "\n",
    "### Initialize Trainer\n",
    "trainer = Trainer(\n",
    "    model=model,\n",
    "    args=training_args,\n",
    "    train_dataset=train_dataset,\n",
    "    eval_dataset=test_dataset,\n",
    "    tokenizer=tokenizer,\n",
    "    data_collator=data_collator,\n",
    "    compute_metrics=compute_metrics\n",
    ")\n",
    "\n",
    "\n",
    "trainer.train()\n",
    "results = trainer.evaluate()\n",
    "accuracy = results[\"eval_accuracy\"]\n",
    "precision = results[\"eval_precision\"]\n",
    "recall = results[\"eval_recall\"]\n",
    "f1 = results[\"eval_f1\"]\n",
    "\n",
    "print(\"\\nEvaluation Results:\")\n",
    "print(f\"Accuracy: {accuracy:.4f}\")\n",
    "print(f\"Precision: {precision:.4f}\")\n",
    "print(f\"Recall: {recall:.4f}\")\n",
    "print(f\"F1 Score: {f1:.4f}\")\n",
    "\n",
    "model.save_pretrained(\"./saved_model\")\n",
    "tokenizer.save_pretrained(\"./saved_model\")\n",
    "\n",
    "metrics = {\n",
    "    \"Accuracy\": accuracy,\n",
    "    \"Precision\": precision,\n",
    "    \"Recall\": recall,\n",
    "    \"F1 Score\": f1\n",
    "}\n",
    "\n",
    "\n",
    "plt.figure(figsize=(8, 5))\n",
    "sns.barplot(x=list(metrics.keys()), y=list(metrics.values()), palette=\"Blues_d\")\n",
    "plt.title(\"Evaluation Metrics\", fontsize=14)\n",
    "plt.ylabel(\"Score\", fontsize=12)\n",
    "plt.xlabel(\"Metric\", fontsize=12)\n",
    "plt.ylim(0, 1)\n",
    "plt.show()"
   ]
  },
  {
   "cell_type": "code",
   "execution_count": 22,
   "id": "7ea6a0cb",
   "metadata": {},
   "outputs": [
    {
     "data": {
      "image/png": "[encoded data removed]",
      "text/plain": [
       "<Figure size 1000x600 with 1 Axes>"
      ]
     },
     "metadata": {},
     "output_type": "display_data"
    }
   ],
   "source": [
    "metrics = {\n",
    "    \"Accuracy\": accuracy,\n",
    "    \"Precision\": precision,\n",
    "    \"Recall\": recall,\n",
    "    \"F1 Score\": f1\n",
    "}\n",
    "\n",
    "plt.figure(figsize=(10, 6))\n",
    "sns.barplot(x=list(metrics.keys()), y=list(metrics.values()), palette=\"coolwarm\")\n",
    "\n",
    "for i, value in enumerate(metrics.values()):\n",
    "    plt.text(i, value + 0.02, f\"{value:.2f}\", ha='center', fontsize=12, fontweight='bold')\n",
    "\n",
    "plt.title(\"Evaluation Metrics for DeBERTa-v3-Large\", fontsize=16, fontweight='bold')\n",
    "plt.ylabel(\"Score\", fontsize=14)\n",
    "plt.xlabel(\"Metric\", fontsize=14)\n",
    "plt.ylim(0, 1.1) \n",
    "plt.xticks(fontsize=12)\n",
    "plt.yticks(fontsize=12)\n",
    "plt.grid(axis='y', linestyle='--', alpha=0.7)\n",
    "\n",
    "plt.tight_layout()\n",
    "plt.show()"
   ]
  },
  {
   "cell_type": "code",
   "execution_count": 21,
   "id": "c1b3be68",
   "metadata": {},
   "outputs": [
    {
     "data": {
      "image/png": "[encoded data removed]",
      "text/plain": [
       "<Figure size 1000x600 with 1 Axes>"
      ]
     },
     "metadata": {},
     "output_type": "display_data"
    }
   ],
   "source": [
    "metrics = {\n",
    "    \"Accuracy\": accuracy,\n",
    "    \"Precision\": precision,\n",
    "    \"Recall\": recall,\n",
    "    \"F1 Score\": f1\n",
    "}\n",
    "\n",
    "metrics_df = pd.DataFrame(list(metrics.items()), columns=[\"Metric\", \"Score\"])\n",
    "\n",
    "plt.figure(figsize=(10, 6))\n",
    "sns.barplot(\n",
    "    x=\"Score\",\n",
    "    y=\"Metric\",\n",
    "    data=metrics_df,\n",
    "    palette=\"coolwarm\",\n",
    "    edgecolor=\"black\"\n",
    ")\n",
    "\n",
    "for index, value in enumerate(metrics_df[\"Score\"]):\n",
    "    plt.text(\n",
    "        value + 0.02,  # Adjust for slight gap\n",
    "        index, \n",
    "        f\"{value:.2f}\", \n",
    "        color=\"black\", \n",
    "        ha=\"center\", \n",
    "        va=\"center\", \n",
    "        fontsize=11\n",
    "    )\n",
    "\n",
    "plt.title(\"Evaluation Metrics\", fontsize=16, fontweight=\"bold\")\n",
    "plt.xlabel(\"Score\", fontsize=14)\n",
    "plt.ylabel(\"Metric\", fontsize=14)\n",
    "plt.xlim(0, 1)  # Set limit for score range\n",
    "plt.grid(axis=\"x\", linestyle=\"--\", alpha=0.7)\n",
    "\n",
    "plt.tight_layout()\n",
    "plt.show()"
   ]
  }
 ],
 "metadata": {
  "kernelspec": {
   "display_name": "Python 3 (ipykernel)",
   "language": "python",
   "name": "python3"
  },
  "language_info": {
   "codemirror_mode": {
    "name": "ipython",
    "version": 3
   },
   "file_extension": ".py",
   "mimetype": "text/x-python",
   "name": "python",
   "nbconvert_exporter": "python",
   "pygments_lexer": "ipython3",
   "version": "3.11.5"
  }
 },
 "nbformat": 4,
 "nbformat_minor": 5
}
